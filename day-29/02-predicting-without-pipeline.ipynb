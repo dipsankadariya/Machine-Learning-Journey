{
 "cells": [
  {
   "cell_type": "code",
   "execution_count": 1,
   "id": "184c63ef-e8be-42ea-98d5-da89feae5740",
   "metadata": {},
   "outputs": [],
   "source": [
    "import pickle\n",
    "import numpy as np"
   ]
  },
  {
   "cell_type": "code",
   "execution_count": 2,
   "id": "40043db9-a009-4d37-96c7-f4d0db43cb69",
   "metadata": {},
   "outputs": [],
   "source": [
    "#### Decode the pickle file to normal Decision tree object that we encoded before"
   ]
  },
  {
   "cell_type": "code",
   "execution_count": 3,
   "id": "fc200573-c61e-465e-b158-0aadb3f4daca",
   "metadata": {},
   "outputs": [],
   "source": [
    "ohe_sex=pickle.load(open('models/ohe_sex.pkl','rb'))\n",
    "ohe_embarked=pickle.load(open('models/ohe_embarked.pkl','rb'))\n",
    "clf=pickle.load(open('models/clf.pkl','rb'))"
   ]
  },
  {
   "cell_type": "code",
   "execution_count": 4,
   "id": "c85b5567-842f-4b9e-b550-7bda514e6a86",
   "metadata": {},
   "outputs": [],
   "source": [
    "#### Assuming a user input\n",
    "#### Pclass/gender/age/SibSp/Parch/Fare/Embarked\n",
    "test_input = np.array([2, 'male', 31.0, 0, 0, 10.5, 'S'],dtype=object).reshape(1,7)\n",
    "####input using refrence  from the dataframe"
   ]
  },
  {
   "cell_type": "code",
   "execution_count": 5,
   "id": "c6fa4528-df69-49b3-b60a-1ddc11e7d57e",
   "metadata": {},
   "outputs": [
    {
     "data": {
      "text/plain": [
       "array([[2, 'male', 31.0, 0, 0, 10.5, 'S']], dtype=object)"
      ]
     },
     "execution_count": 5,
     "metadata": {},
     "output_type": "execute_result"
    }
   ],
   "source": [
    "test_input"
   ]
  },
  {
   "cell_type": "code",
   "execution_count": 6,
   "id": "f599b376-39f3-4d8c-b0ad-28b7fe0fef3e",
   "metadata": {},
   "outputs": [
    {
     "name": "stderr",
     "output_type": "stream",
     "text": [
      "C:\\Users\\dipsa\\AppData\\Local\\Programs\\Python\\Python312\\Lib\\site-packages\\sklearn\\utils\\validation.py:2739: UserWarning: X does not have valid feature names, but OneHotEncoder was fitted with feature names\n",
      "  warnings.warn(\n"
     ]
    }
   ],
   "source": [
    "test_input_sex = ohe_sex.transform(test_input[:,1].reshape(1,1))"
   ]
  },
  {
   "cell_type": "code",
   "execution_count": 8,
   "id": "c426c6dd-db67-4446-8fa2-5498e2ddf574",
   "metadata": {},
   "outputs": [
    {
     "data": {
      "text/plain": [
       "array([[0., 1.]])"
      ]
     },
     "execution_count": 8,
     "metadata": {},
     "output_type": "execute_result"
    }
   ],
   "source": [
    "test_input_sex"
   ]
  },
  {
   "cell_type": "code",
   "execution_count": 9,
   "id": "26bd03b6-de8f-4ad1-9a17-6809115db2ad",
   "metadata": {},
   "outputs": [],
   "source": [
    "test_input_embarked = ohe_embarked.transform(test_input[:,-1].reshape(1,1))"
   ]
  },
  {
   "cell_type": "code",
   "execution_count": 11,
   "id": "42190bcd-7ea0-475a-b818-d904cc70dbfb",
   "metadata": {},
   "outputs": [
    {
     "data": {
      "text/plain": [
       "array([[0., 0., 1.]])"
      ]
     },
     "execution_count": 11,
     "metadata": {},
     "output_type": "execute_result"
    }
   ],
   "source": [
    "test_input_embarked"
   ]
  },
  {
   "cell_type": "code",
   "execution_count": 12,
   "id": "c39209f9-b0ad-47a4-a493-977e44b578a4",
   "metadata": {},
   "outputs": [],
   "source": [
    "test_input_age = test_input[:,2].reshape(1,1)"
   ]
  },
  {
   "cell_type": "code",
   "execution_count": 13,
   "id": "8ce1478a-0939-4879-a3b6-6c3ba572587c",
   "metadata": {},
   "outputs": [],
   "source": [
    "test_input_transformed = np.concatenate((test_input[:,[0,3,4,5]],test_input_age,test_input_sex,test_input_embarked),axis=1)"
   ]
  },
  {
   "cell_type": "code",
   "execution_count": 14,
   "id": "ed915031-c8b9-49ee-8cfd-89ccdd4d8ff3",
   "metadata": {},
   "outputs": [
    {
     "data": {
      "text/plain": [
       "(1, 10)"
      ]
     },
     "execution_count": 14,
     "metadata": {},
     "output_type": "execute_result"
    }
   ],
   "source": [
    "test_input_transformed.shape"
   ]
  },
  {
   "cell_type": "code",
   "execution_count": 15,
   "id": "1fccc8f5-49c9-4756-8441-5e3f117f311e",
   "metadata": {},
   "outputs": [
    {
     "data": {
      "text/plain": [
       "array([1])"
      ]
     },
     "execution_count": 15,
     "metadata": {},
     "output_type": "execute_result"
    }
   ],
   "source": [
    "clf.predict(test_input_transformed)"
   ]
  },
  {
   "cell_type": "markdown",
   "id": "e376136f-94c9-40a8-9e5f-367a18ec4122",
   "metadata": {},
   "source": [
    "#### This was the hassle way without using the pipeline. So we need to use pipeline"
   ]
  },
  {
   "cell_type": "code",
   "execution_count": null,
   "id": "121d4d97-a1b0-409d-b81c-fd375ab2bec8",
   "metadata": {},
   "outputs": [],
   "source": []
  }
 ],
 "metadata": {
  "kernelspec": {
   "display_name": "Python 3 (ipykernel)",
   "language": "python",
   "name": "python3"
  },
  "language_info": {
   "codemirror_mode": {
    "name": "ipython",
    "version": 3
   },
   "file_extension": ".py",
   "mimetype": "text/x-python",
   "name": "python",
   "nbconvert_exporter": "python",
   "pygments_lexer": "ipython3",
   "version": "3.12.3"
  }
 },
 "nbformat": 4,
 "nbformat_minor": 5
}
